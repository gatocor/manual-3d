{
 "cells": [
  {
   "cell_type": "code",
   "execution_count": 1,
   "id": "b497156c-f1ea-483d-9a22-ac7016b7bbca",
   "metadata": {},
   "outputs": [],
   "source": [
    "%load_ext autoreload\n",
    "%autoreload 2\n",
    "\n",
    "from napari import Viewer\n",
    "import skimage\n",
    "import manual_3d\n",
    "\n",
    "viewer = Viewer()"
   ]
  },
  {
   "cell_type": "code",
   "execution_count": 6,
   "id": "c40282d4-7fb9-4e4f-97af-a57a5644f38e",
   "metadata": {},
   "outputs": [
    {
     "data": {
      "text/plain": [
       "<napari._qt.widgets.qt_viewer_dock_widget.QtViewerDockWidget at 0x7fe5685c6200>"
      ]
     },
     "execution_count": 6,
     "metadata": {},
     "output_type": "execute_result"
    },
    {
     "name": "stdout",
     "output_type": "stream",
     "text": [
      "Data layer loaded successfully.\n",
      "Data layer loaded successfully.\n"
     ]
    }
   ],
   "source": [
    "## import manual_3d\n",
    "from importlib import reload\n",
    "reload(manual_3d)\n",
    "import manual_3d\n",
    "\n",
    "viewer.window.add_dock_widget(manual_3d.LoadData(viewer))"
   ]
  },
  {
   "cell_type": "code",
   "execution_count": 7,
   "id": "f228f14b-0f45-4d7f-b5aa-857d56bda5fd",
   "metadata": {},
   "outputs": [
    {
     "data": {
      "text/plain": [
       "<napari._qt.widgets.qt_viewer_dock_widget.QtViewerDockWidget at 0x7fe5684bd870>"
      ]
     },
     "execution_count": 7,
     "metadata": {},
     "output_type": "execute_result"
    },
    {
     "name": "stdout",
     "output_type": "stream",
     "text": [
      "(38214, 5)\n",
      "Vector layer loaded successfully.\n"
     ]
    }
   ],
   "source": [
    "## import manual_3d\n",
    "from importlib import reload\n",
    "reload(manual_3d)\n",
    "import manual_3d\n",
    "\n",
    "viewer.window.add_dock_widget(manual_3d.LoadVectorfield(viewer))"
   ]
  },
  {
   "cell_type": "code",
   "execution_count": 15,
   "id": "b58229fd-c795-4c2a-b8e2-01ec067d03bc",
   "metadata": {},
   "outputs": [
    {
     "data": {
      "text/plain": [
       "<napari._qt.widgets.qt_viewer_dock_widget.QtViewerDockWidget at 0x7f7f204ddf30>"
      ]
     },
     "execution_count": 15,
     "metadata": {},
     "output_type": "execute_result"
    }
   ],
   "source": [
    "## import manual_3d\n",
    "from importlib import reload\n",
    "reload(manual_3d)\n",
    "import manual_3d\n",
    "\n",
    "viewer.window.add_dock_widget(manual_3d.Box(viewer))"
   ]
  },
  {
   "cell_type": "code",
   "execution_count": 3,
   "id": "10896350-79ae-4b81-a4ac-82aa11c71802",
   "metadata": {},
   "outputs": [
    {
     "data": {
      "text/plain": [
       "<napari._qt.widgets.qt_viewer_dock_widget.QtViewerDockWidget at 0x7f835e9615a0>"
      ]
     },
     "execution_count": 3,
     "metadata": {},
     "output_type": "execute_result"
    },
    {
     "name": "stderr",
     "output_type": "stream",
     "text": [
      "Traceback (most recent call last):\n",
      "  File \"/home/gabriel/Documents/napari_annotation_plugin/manual-3d/src/manual_3d/_widget.py\", line 411, in exec_function\n",
      "    self.viewer.layers.move(len(self.viewer.layers), 0)\n",
      "  File \"/home/gabriel/miniconda3/envs/napari-env/lib/python3.10/site-packages/napari/utils/events/containers/_evented_list.py\", line 240, in move\n",
      "    item = self._list.pop(src_index)\n",
      "IndexError: pop index out of range\n"
     ]
    }
   ],
   "source": [
    "## import manual_3d\n",
    "from importlib import reload\n",
    "reload(manual_3d)\n",
    "import manual_3d\n",
    "\n",
    "viewer.window.add_dock_widget(manual_3d.Parabola(viewer))"
   ]
  },
  {
   "cell_type": "code",
   "execution_count": 2,
   "id": "ee4f3544-8193-4167-ad71-a1b92a5e0de2",
   "metadata": {},
   "outputs": [
    {
     "data": {
      "text/plain": [
       "<napari._qt.widgets.qt_viewer_dock_widget.QtViewerDockWidget at 0x7f7c94244e50>"
      ]
     },
     "execution_count": 2,
     "metadata": {},
     "output_type": "execute_result"
    },
    {
     "name": "stdout",
     "output_type": "stream",
     "text": [
      "Settings saved to /home/gabriel/Documents/napari_annotation_plugin/data_tracking/settings.json\n",
      "Empty points.npy and trackings.npy created in /home/gabriel/Documents/napari_annotation_plugin/data_tracking\n"
     ]
    }
   ],
   "source": [
    "## import manual_3d\n",
    "from importlib import reload\n",
    "reload(manual_3d)\n",
    "import manual_3d\n",
    "\n",
    "viewer.window.add_dock_widget(manual_3d.SetUpTracking(viewer))"
   ]
  },
  {
   "cell_type": "code",
   "execution_count": 10,
   "id": "d7dc89a4-c346-4a3f-86e2-c5db05fda3a9",
   "metadata": {},
   "outputs": [
    {
     "data": {
      "text/plain": [
       "<napari._qt.widgets.qt_viewer_dock_widget.QtViewerDockWidget at 0x7f7cc01e0820>"
      ]
     },
     "execution_count": 10,
     "metadata": {},
     "output_type": "execute_result"
    }
   ],
   "source": [
    "## import manual_3d\n",
    "from importlib import reload\n",
    "reload(manual_3d)\n",
    "import manual_3d\n",
    "\n",
    "viewer.window.add_dock_widget(manual_3d.LoadTracking(viewer))"
   ]
  },
  {
   "cell_type": "code",
   "execution_count": 4,
   "id": "265e1466-14e9-44e9-b9fd-0642fb218c28",
   "metadata": {},
   "outputs": [
    {
     "data": {
      "text/plain": [
       "<napari._qt.widgets.qt_viewer_dock_widget.QtViewerDockWidget at 0x7fce1c31c040>"
      ]
     },
     "execution_count": 4,
     "metadata": {},
     "output_type": "execute_result"
    },
    {
     "name": "stderr",
     "output_type": "stream",
     "text": [
      "Traceback (most recent call last):\n",
      "  File \"/home/pablo/Documents/gabriel/manual-3d/src/manual_3d/_widget.py\", line 1147, in hideEvent\n",
      "    # self.vectorcheckbox = QCheckBox(\"Debug\")\n",
      "  File \"/home/pablo/miniconda3/envs/napari-env/lib/python3.10/_collections_abc.py\", line 1163, in remove\n",
      "    del self[self.index(value)]\n",
      "  File \"/home/pablo/miniconda3/envs/napari-env/lib/python3.10/site-packages/napari/utils/events/containers/_typed.py\", line 236, in index\n",
      "    raise ValueError(\n",
      "ValueError: <Image layer 'Auxiliar Forward Image Layer' at 0x7fce74716650> is not in list\n"
     ]
    }
   ],
   "source": [
    "# import manual_3d\n",
    "from importlib import reload\n",
    "reload(manual_3d)\n",
    "import manual_3d\n",
    "\n",
    "viewer.window.add_dock_widget(manual_3d.ManualTracking(viewer))"
   ]
  },
  {
   "cell_type": "code",
   "execution_count": 7,
   "id": "45a63e79-7020-484b-9b8c-fa81bd97d6ea",
   "metadata": {},
   "outputs": [
    {
     "data": {
      "text/plain": [
       "{'id': array([1., 1., 1., 1., 1., 1., 1., 1., 1.])}"
      ]
     },
     "execution_count": 7,
     "metadata": {},
     "output_type": "execute_result"
    }
   ],
   "source": [
    "viewer.layers[\"Points Layer\"].properties"
   ]
  },
  {
   "cell_type": "code",
   "execution_count": null,
   "id": "c3b12100-8268-4ae1-9f22-cb664f3aca0e",
   "metadata": {},
   "outputs": [],
   "source": []
  }
 ],
 "metadata": {
  "kernelspec": {
   "display_name": "napari-env",
   "language": "python",
   "name": "napari-env"
  },
  "language_info": {
   "codemirror_mode": {
    "name": "ipython",
    "version": 3
   },
   "file_extension": ".py",
   "mimetype": "text/x-python",
   "name": "python",
   "nbconvert_exporter": "python",
   "pygments_lexer": "ipython3",
   "version": "3.10.15"
  }
 },
 "nbformat": 4,
 "nbformat_minor": 5
}
