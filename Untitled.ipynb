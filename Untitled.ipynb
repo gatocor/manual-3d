{
 "cells": [
  {
   "cell_type": "code",
   "execution_count": 1,
   "id": "b497156c-f1ea-483d-9a22-ac7016b7bbca",
   "metadata": {},
   "outputs": [
    {
     "name": "stderr",
     "output_type": "stream",
     "text": [
      "/home/gabriel/.local/lib/python3.10/site-packages/tqdm/auto.py:22: TqdmWarning: IProgress not found. Please update jupyter and ipywidgets. See https://ipywidgets.readthedocs.io/en/stable/user_install.html\n",
      "  from .autonotebook import tqdm as notebook_tqdm\n",
      "WARNING: Warning: Ignoring XDG_SESSION_TYPE=wayland on Gnome. Use QT_QPA_PLATFORM=wayland to run on Wayland anyway.\n"
     ]
    }
   ],
   "source": [
    "%load_ext autoreload\n",
    "%autoreload 2\n",
    "\n",
    "from napari import Viewer\n",
    "import skimage\n",
    "import manual_3d\n",
    "import numpy as np\n",
    "\n",
    "viewer = Viewer()"
   ]
  },
  {
   "cell_type": "code",
   "execution_count": 6,
   "id": "c40282d4-7fb9-4e4f-97af-a57a5644f38e",
   "metadata": {},
   "outputs": [
    {
     "data": {
      "text/plain": [
       "<napari._qt.widgets.qt_viewer_dock_widget.QtViewerDockWidget at 0x7fe5685c6200>"
      ]
     },
     "execution_count": 6,
     "metadata": {},
     "output_type": "execute_result"
    },
    {
     "name": "stdout",
     "output_type": "stream",
     "text": [
      "Data layer loaded successfully.\n",
      "Data layer loaded successfully.\n"
     ]
    }
   ],
   "source": [
    "## import manual_3d\n",
    "from importlib import reload\n",
    "reload(manual_3d)\n",
    "import manual_3d\n",
    "\n",
    "viewer.window.add_dock_widget(manual_3d.LoadData(viewer))"
   ]
  },
  {
   "cell_type": "code",
   "execution_count": 7,
   "id": "f228f14b-0f45-4d7f-b5aa-857d56bda5fd",
   "metadata": {},
   "outputs": [
    {
     "data": {
      "text/plain": [
       "<napari._qt.widgets.qt_viewer_dock_widget.QtViewerDockWidget at 0x7fe5684bd870>"
      ]
     },
     "execution_count": 7,
     "metadata": {},
     "output_type": "execute_result"
    },
    {
     "name": "stdout",
     "output_type": "stream",
     "text": [
      "(38214, 5)\n",
      "Vector layer loaded successfully.\n"
     ]
    }
   ],
   "source": [
    "## import manual_3d\n",
    "from importlib import reload\n",
    "reload(manual_3d)\n",
    "import manual_3d\n",
    "\n",
    "viewer.window.add_dock_widget(manual_3d.LoadVectorfield(viewer))"
   ]
  },
  {
   "cell_type": "code",
   "execution_count": 15,
   "id": "b58229fd-c795-4c2a-b8e2-01ec067d03bc",
   "metadata": {},
   "outputs": [
    {
     "data": {
      "text/plain": [
       "<napari._qt.widgets.qt_viewer_dock_widget.QtViewerDockWidget at 0x7f7f204ddf30>"
      ]
     },
     "execution_count": 15,
     "metadata": {},
     "output_type": "execute_result"
    }
   ],
   "source": [
    "## import manual_3d\n",
    "from importlib import reload\n",
    "reload(manual_3d)\n",
    "import manual_3d\n",
    "\n",
    "viewer.window.add_dock_widget(manual_3d.Box(viewer))"
   ]
  },
  {
   "cell_type": "code",
   "execution_count": 3,
   "id": "10896350-79ae-4b81-a4ac-82aa11c71802",
   "metadata": {},
   "outputs": [
    {
     "data": {
      "text/plain": [
       "<napari._qt.widgets.qt_viewer_dock_widget.QtViewerDockWidget at 0x7f835e9615a0>"
      ]
     },
     "execution_count": 3,
     "metadata": {},
     "output_type": "execute_result"
    },
    {
     "name": "stderr",
     "output_type": "stream",
     "text": [
      "Traceback (most recent call last):\n",
      "  File \"/home/gabriel/Documents/napari_annotation_plugin/manual-3d/src/manual_3d/_widget.py\", line 411, in exec_function\n",
      "    self.viewer.layers.move(len(self.viewer.layers), 0)\n",
      "  File \"/home/gabriel/miniconda3/envs/napari-env/lib/python3.10/site-packages/napari/utils/events/containers/_evented_list.py\", line 240, in move\n",
      "    item = self._list.pop(src_index)\n",
      "IndexError: pop index out of range\n"
     ]
    }
   ],
   "source": [
    "## import manual_3d\n",
    "from importlib import reload\n",
    "reload(manual_3d)\n",
    "import manual_3d\n",
    "\n",
    "viewer.window.add_dock_widget(manual_3d.Parabola(viewer))"
   ]
  },
  {
   "cell_type": "code",
   "execution_count": 2,
   "id": "ee4f3544-8193-4167-ad71-a1b92a5e0de2",
   "metadata": {},
   "outputs": [
    {
     "data": {
      "text/plain": [
       "<napari._qt.widgets.qt_viewer_dock_widget.QtViewerDockWidget at 0x7f7c94244e50>"
      ]
     },
     "execution_count": 2,
     "metadata": {},
     "output_type": "execute_result"
    },
    {
     "name": "stdout",
     "output_type": "stream",
     "text": [
      "Settings saved to /home/gabriel/Documents/napari_annotation_plugin/data_tracking/settings.json\n",
      "Empty points.npy and trackings.npy created in /home/gabriel/Documents/napari_annotation_plugin/data_tracking\n"
     ]
    }
   ],
   "source": [
    "## import manual_3d\n",
    "from importlib import reload\n",
    "reload(manual_3d)\n",
    "import manual_3d\n",
    "\n",
    "viewer.window.add_dock_widget(manual_3d.SetUpTracking(viewer))"
   ]
  },
  {
   "cell_type": "code",
   "execution_count": 10,
   "id": "d7dc89a4-c346-4a3f-86e2-c5db05fda3a9",
   "metadata": {},
   "outputs": [
    {
     "data": {
      "text/plain": [
       "<napari._qt.widgets.qt_viewer_dock_widget.QtViewerDockWidget at 0x7f7cc01e0820>"
      ]
     },
     "execution_count": 10,
     "metadata": {},
     "output_type": "execute_result"
    }
   ],
   "source": [
    "## import manual_3d\n",
    "from importlib import reload\n",
    "reload(manual_3d)\n",
    "import manual_3d\n",
    "\n",
    "viewer.window.add_dock_widget(manual_3d.LoadTracking(viewer))"
   ]
  },
  {
   "cell_type": "code",
   "execution_count": 2,
   "id": "265e1466-14e9-44e9-b9fd-0642fb218c28",
   "metadata": {},
   "outputs": [
    {
     "ename": "NameError",
     "evalue": "name 'manual_3d' is not defined",
     "output_type": "error",
     "traceback": [
      "\u001b[0;31m---------------------------------------------------------------------------\u001b[0m",
      "\u001b[0;31mNameError\u001b[0m                                 Traceback (most recent call last)",
      "Cell \u001b[0;32mIn[2], line 3\u001b[0m\n\u001b[1;32m      1\u001b[0m \u001b[38;5;66;03m# import manual_3d\u001b[39;00m\n\u001b[1;32m      2\u001b[0m \u001b[38;5;28;01mfrom\u001b[39;00m \u001b[38;5;21;01mimportlib\u001b[39;00m \u001b[38;5;28;01mimport\u001b[39;00m reload\n\u001b[0;32m----> 3\u001b[0m reload(\u001b[43mmanual_3d\u001b[49m)\n\u001b[1;32m      4\u001b[0m \u001b[38;5;28;01mimport\u001b[39;00m \u001b[38;5;21;01mmanual_3d\u001b[39;00m\n\u001b[1;32m      6\u001b[0m viewer\u001b[38;5;241m.\u001b[39mwindow\u001b[38;5;241m.\u001b[39madd_dock_widget(manual_3d\u001b[38;5;241m.\u001b[39mManualTracking(viewer))\n",
      "\u001b[0;31mNameError\u001b[0m: name 'manual_3d' is not defined"
     ]
    }
   ],
   "source": [
    "# import manual_3d\n",
    "from importlib import reload\n",
    "reload(manual_3d)\n",
    "import manual_3d\n",
    "\n",
    "if \"Data Layer\" not in viewer.layers:\n",
    "    m = manual_3d.LoadTracking(viewer)\n",
    "    m.folder_input.setText(\"/home/gabriel/Documents/napari_annotation_plugin/data_tracking\")\n",
    "    m.load_layers()\n",
    "viewer.window.add_dock_widget(manual_3d.ManualTracking(viewer))"
   ]
  },
  {
   "cell_type": "markdown",
   "id": "ea37c08c-7efa-4dfc-b7a4-c8ca7177cd57",
   "metadata": {},
   "source": [
    "# AI"
   ]
  },
  {
   "cell_type": "code",
   "execution_count": 2,
   "id": "126c4152-363f-4c9e-a5d7-eb77332e311d",
   "metadata": {},
   "outputs": [
    {
     "name": "stdout",
     "output_type": "stream",
     "text": [
      "Data layer loaded successfully.\n",
      "Points layer (empty or not) loaded successfully.\n",
      "Tracking layer (empty or not) loaded successfully.\n",
      "(1, 4)\n"
     ]
    },
    {
     "data": {
      "text/plain": [
       "<napari._qt.widgets.qt_viewer_dock_widget.QtViewerDockWidget at 0x7f34c1aaaef0>"
      ]
     },
     "execution_count": 2,
     "metadata": {},
     "output_type": "execute_result"
    }
   ],
   "source": [
    "# import manual_3d\n",
    "from importlib import reload\n",
    "reload(manual_3d)\n",
    "import manual_3d\n",
    "\n",
    "if \"Data Layer\" not in viewer.layers:\n",
    "    m = manual_3d.LoadTracking(viewer)\n",
    "    m.folder_input.setText(\"/home/gabriel/Documents/napari_annotation_plugin/data_tracking\")\n",
    "    m.load_layers()\n",
    "viewer.window.add_dock_widget(manual_3d.ManualTracking(viewer))"
   ]
  },
  {
   "cell_type": "code",
   "execution_count": 3,
   "id": "a9ad3882-380e-4ae7-a9b9-6d34257ed120",
   "metadata": {},
   "outputs": [],
   "source": [
    "manual_3d.save_chunks_and_coords_from_tracks(\n",
    "    viewer.layers[\"Data Layer\"].data,\n",
    "    viewer.layers[\"Tracking Layer\"].data,  \n",
    "    (8,50,50),\n",
    "    \"/home/gabriel/Documents/napari_annotation_plugin/training\"\n",
    ")"
   ]
  },
  {
   "cell_type": "code",
   "execution_count": 4,
   "id": "3a2c16fe-c205-4aa0-aa0a-d1691c485ccb",
   "metadata": {},
   "outputs": [],
   "source": [
    "loader = manual_3d.ImagePointDataset(\"/home/gabriel/Documents/napari_annotation_plugin/training\")"
   ]
  },
  {
   "cell_type": "code",
   "execution_count": 5,
   "id": "f0df6bad-dc32-4d55-95a3-2603d3c480c7",
   "metadata": {},
   "outputs": [
    {
     "data": {
      "text/plain": [
       "torch.Size([1, 17, 101, 101])"
      ]
     },
     "execution_count": 5,
     "metadata": {},
     "output_type": "execute_result"
    }
   ],
   "source": [
    "image = loader.__getitem__(0)[0];\n",
    "image.shape"
   ]
  },
  {
   "cell_type": "code",
   "execution_count": 9,
   "id": "3d92f59b-2405-48d9-9c11-f5d367cea3d2",
   "metadata": {},
   "outputs": [],
   "source": [
    "from importlib import reload\n",
    "reload(manual_3d)\n",
    "import manual_3d"
   ]
  },
  {
   "cell_type": "code",
   "execution_count": 10,
   "id": "1d0d2d1b-46cc-4e4d-bfd2-2e4730e1dae5",
   "metadata": {},
   "outputs": [
    {
     "data": {
      "text/plain": [
       "Dual3DImageNet(\n",
       "  (contract1): ContractingBlock(\n",
       "    (conv1): Conv3d(1, 32, kernel_size=(3, 24, 24), stride=(1, 1, 1), padding=(1, 11, 11))\n",
       "    (conv2): Conv3d(32, 32, kernel_size=(3, 24, 24), stride=(1, 1, 1), padding=(1, 11, 11))\n",
       "    (pool): MaxPool3d(kernel_size=(1, 8, 8), stride=(1, 8, 8), padding=0, dilation=1, ceil_mode=False)\n",
       "  )\n",
       "  (contract2): ContractingBlock(\n",
       "    (conv1): Conv3d(32, 64, kernel_size=(3, 3, 3), stride=(1, 1, 1), padding=(1, 1, 1))\n",
       "    (conv2): Conv3d(64, 64, kernel_size=(3, 3, 3), stride=(1, 1, 1), padding=(1, 1, 1))\n",
       "    (pool): MaxPool3d(kernel_size=(1, 1, 1), stride=(1, 1, 1), padding=0, dilation=1, ceil_mode=False)\n",
       "  )\n",
       "  (contract3): ContractingBlock(\n",
       "    (conv1): Conv3d(64, 128, kernel_size=(3, 3, 3), stride=(1, 1, 1), padding=(1, 1, 1))\n",
       "    (conv2): Conv3d(128, 128, kernel_size=(3, 3, 3), stride=(1, 1, 1), padding=(1, 1, 1))\n",
       "    (pool): MaxPool3d(kernel_size=(1, 1, 1), stride=(1, 1, 1), padding=0, dilation=1, ceil_mode=False)\n",
       "  )\n",
       "  (fc1): Linear(in_features=207360, out_features=128, bias=True)\n",
       "  (fc2): Linear(in_features=128, out_features=64, bias=True)\n",
       "  (fc3): Linear(in_features=64, out_features=3, bias=True)\n",
       ")"
      ]
     },
     "execution_count": 10,
     "metadata": {},
     "output_type": "execute_result"
    }
   ],
   "source": [
    "model = manual_3d.Dual3DImageNet((10,80,80))\n",
    "model"
   ]
  },
  {
   "cell_type": "code",
   "execution_count": 13,
   "id": "aecbfbfc-4f62-4935-8fba-954c27437cfe",
   "metadata": {},
   "outputs": [
    {
     "name": "stdout",
     "output_type": "stream",
     "text": [
      "img1_features shape: torch.Size([128, 2, 12, 12])\n",
      "img2_features shape: torch.Size([128, 2, 12, 12])\n",
      "img1_flat shape: torch.Size([36864])\n",
      "img2_flat shape: torch.Size([36864])\n"
     ]
    },
    {
     "data": {
      "text/plain": [
       "tensor([-0.1409, -0.0058,  0.0199], grad_fn=<AddBackward0>)"
      ]
     },
     "execution_count": 13,
     "metadata": {},
     "output_type": "execute_result"
    }
   ],
   "source": [
    "model(image,image)"
   ]
  },
  {
   "cell_type": "code",
   "execution_count": 15,
   "id": "d7b74c29-c25d-468d-9f20-087f74bc3e00",
   "metadata": {},
   "outputs": [
    {
     "name": "stdout",
     "output_type": "stream",
     "text": [
      "Epoch [1/10], Loss: 109634.8589\n",
      "Epoch [2/10], Loss: 56598.5356\n",
      "Epoch [3/10], Loss: 133003.2989\n",
      "Epoch [4/10], Loss: 47433.4340\n",
      "Epoch [5/10], Loss: 29777.7841\n",
      "Epoch [6/10], Loss: 14987.3225\n",
      "Epoch [7/10], Loss: 16858.3835\n",
      "Epoch [8/10], Loss: 15864.6599\n",
      "Epoch [9/10], Loss: 13458.2109\n",
      "Epoch [10/10], Loss: 11342.7247\n"
     ]
    },
    {
     "data": {
      "text/plain": [
       "Dual3DImageNet(\n",
       "  (contract1): ContractingBlock(\n",
       "    (conv1): Conv3d(1, 32, kernel_size=(3, 3, 3), stride=(1, 1, 1), padding=(1, 1, 1))\n",
       "    (conv2): Conv3d(32, 32, kernel_size=(3, 3, 3), stride=(1, 1, 1), padding=(1, 1, 1))\n",
       "    (pool): MaxPool3d(kernel_size=(2, 2, 2), stride=(2, 2, 2), padding=0, dilation=1, ceil_mode=False)\n",
       "  )\n",
       "  (contract2): ContractingBlock(\n",
       "    (conv1): Conv3d(32, 64, kernel_size=(3, 3, 3), stride=(1, 1, 1), padding=(1, 1, 1))\n",
       "    (conv2): Conv3d(64, 64, kernel_size=(3, 3, 3), stride=(1, 1, 1), padding=(1, 1, 1))\n",
       "    (pool): MaxPool3d(kernel_size=(2, 2, 2), stride=(2, 2, 2), padding=0, dilation=1, ceil_mode=False)\n",
       "  )\n",
       "  (contract3): ContractingBlock(\n",
       "    (conv1): Conv3d(64, 128, kernel_size=(3, 3, 3), stride=(1, 1, 1), padding=(1, 1, 1))\n",
       "    (conv2): Conv3d(128, 128, kernel_size=(3, 3, 3), stride=(1, 1, 1), padding=(1, 1, 1))\n",
       "    (pool): MaxPool3d(kernel_size=(2, 2, 2), stride=(2, 2, 2), padding=0, dilation=1, ceil_mode=False)\n",
       "  )\n",
       "  (fc1): Linear(in_features=73728, out_features=128, bias=True)\n",
       "  (fc2): Linear(in_features=128, out_features=64, bias=True)\n",
       "  (fc3): Linear(in_features=64, out_features=3, bias=True)\n",
       ")"
      ]
     },
     "execution_count": 15,
     "metadata": {},
     "output_type": "execute_result"
    },
    {
     "name": "stderr",
     "output_type": "stream",
     "text": [
      "Traceback (most recent call last):\n",
      "  File \"/home/gabriel/Documents/napari_annotation_plugin/manual-3d/src/manual_3d/_widget.py\", line 1403, in hideEvent\n",
      "    self.viewer.layers.remove(self.prediction_layer)\n",
      "  File \"/home/gabriel/miniconda3/envs/napari-env/lib/python3.10/_collections_abc.py\", line 1163, in remove\n",
      "    del self[self.index(value)]\n",
      "  File \"/home/gabriel/miniconda3/envs/napari-env/lib/python3.10/site-packages/napari/utils/events/containers/_typed.py\", line 236, in index\n",
      "    raise ValueError(\n",
      "ValueError: <Points layer 'Prediction' at 0x7fdbdb6ce020> is not in list\n"
     ]
    }
   ],
   "source": [
    "manual_3d.train_model(model, loader)"
   ]
  },
  {
   "cell_type": "code",
   "execution_count": null,
   "id": "6e86b72a-5fce-40b5-a049-8d4efffcb2cd",
   "metadata": {},
   "outputs": [],
   "source": []
  }
 ],
 "metadata": {
  "kernelspec": {
   "display_name": "napari-env",
   "language": "python",
   "name": "napari-env"
  },
  "language_info": {
   "codemirror_mode": {
    "name": "ipython",
    "version": 3
   },
   "file_extension": ".py",
   "mimetype": "text/x-python",
   "name": "python",
   "nbconvert_exporter": "python",
   "pygments_lexer": "ipython3",
   "version": "3.10.15"
  }
 },
 "nbformat": 4,
 "nbformat_minor": 5
}
