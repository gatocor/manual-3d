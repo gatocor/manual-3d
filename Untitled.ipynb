{
 "cells": [
  {
   "cell_type": "code",
   "execution_count": 1,
   "id": "b497156c-f1ea-483d-9a22-ac7016b7bbca",
   "metadata": {},
   "outputs": [],
   "source": [
    "%load_ext autoreload\n",
    "%autoreload 2\n",
    "\n",
    "from napari import Viewer\n",
    "import manual_3d\n",
    "\n",
    "viewer = Viewer()"
   ]
  },
  {
   "cell_type": "code",
   "execution_count": 4,
   "id": "ee4f3544-8193-4167-ad71-a1b92a5e0de2",
   "metadata": {},
   "outputs": [
    {
     "data": {
      "text/plain": [
       "<napari._qt.widgets.qt_viewer_dock_widget.QtViewerDockWidget at 0x7fd1c82d4790>"
      ]
     },
     "execution_count": 4,
     "metadata": {},
     "output_type": "execute_result"
    },
    {
     "name": "stdout",
     "output_type": "stream",
     "text": [
      "Settings saved to /home/pablo/Documents/gabriel/data_tracking/settings.json\n",
      "Empty points.npy and trackings.npy created in /home/pablo/Documents/gabriel/data_tracking\n"
     ]
    }
   ],
   "source": [
    "## import manual_3d\n",
    "from importlib import reload\n",
    "reload(manual_3d)\n",
    "import manual_3d\n",
    "\n",
    "viewer.window.add_dock_widget(manual_3d.SetUpTracking(viewer))"
   ]
  },
  {
   "cell_type": "code",
   "execution_count": 2,
   "id": "d7dc89a4-c346-4a3f-86e2-c5db05fda3a9",
   "metadata": {},
   "outputs": [
    {
     "data": {
      "text/plain": [
       "<napari._qt.widgets.qt_viewer_dock_widget.QtViewerDockWidget at 0x7fb1d596b130>"
      ]
     },
     "execution_count": 2,
     "metadata": {},
     "output_type": "execute_result"
    },
    {
     "name": "stdout",
     "output_type": "stream",
     "text": [
      "Data layer loaded successfully.\n",
      "Points layer (empty or not) loaded successfully.\n",
      "Tracking layer (empty or not) loaded successfully.\n"
     ]
    }
   ],
   "source": [
    "## import manual_3d\n",
    "from importlib import reload\n",
    "reload(manual_3d)\n",
    "import manual_3d\n",
    "\n",
    "viewer.window.add_dock_widget(manual_3d.LoadTracking(viewer))"
   ]
  },
  {
   "cell_type": "code",
   "execution_count": 15,
   "id": "265e1466-14e9-44e9-b9fd-0642fb218c28",
   "metadata": {},
   "outputs": [
    {
     "data": {
      "text/plain": [
       "<napari._qt.widgets.qt_viewer_dock_widget.QtViewerDockWidget at 0x7fb1fbb979a0>"
      ]
     },
     "execution_count": 15,
     "metadata": {},
     "output_type": "execute_result"
    },
    {
     "name": "stdout",
     "output_type": "stream",
     "text": [
      "Option 1 selected\n"
     ]
    },
    {
     "name": "stderr",
     "output_type": "stream",
     "text": [
      "Traceback (most recent call last):\n",
      "  File \"/home/pablo/Documents/gabriel/manual-3d/src/manual_3d/_widget.py\", line 492, in hideEvent\n",
      "    self.viewer.layers.remove(self.image_layer_aux)\n",
      "  File \"/home/pablo/miniconda3/envs/napari-env/lib/python3.10/_collections_abc.py\", line 1163, in remove\n",
      "    del self[self.index(value)]\n",
      "  File \"/home/pablo/miniconda3/envs/napari-env/lib/python3.10/site-packages/napari/utils/events/containers/_typed.py\", line 236, in index\n",
      "    raise ValueError(\n",
      "ValueError: <Image layer 'Manual Tracking Data Layer' at 0x7fb21268ebf0> is not in list\n",
      "Traceback (most recent call last):\n",
      "  File \"/home/pablo/Documents/gabriel/manual-3d/src/manual_3d/_widget.py\", line 492, in hideEvent\n",
      "    self.viewer.layers.remove(self.image_layer_aux)\n",
      "  File \"/home/pablo/miniconda3/envs/napari-env/lib/python3.10/_collections_abc.py\", line 1163, in remove\n",
      "    del self[self.index(value)]\n",
      "  File \"/home/pablo/miniconda3/envs/napari-env/lib/python3.10/site-packages/napari/utils/events/containers/_typed.py\", line 236, in index\n",
      "    raise ValueError(\n",
      "ValueError: <Image layer 'Manual Tracking Data Layer' at 0x7fb21268ebf0> is not in list\n",
      "Traceback (most recent call last):\n",
      "  File \"/home/pablo/Documents/gabriel/manual-3d/src/manual_3d/_widget.py\", line 492, in hideEvent\n",
      "    self.viewer.layers.remove(self.image_layer_aux)\n",
      "  File \"/home/pablo/miniconda3/envs/napari-env/lib/python3.10/_collections_abc.py\", line 1163, in remove\n",
      "    del self[self.index(value)]\n",
      "  File \"/home/pablo/miniconda3/envs/napari-env/lib/python3.10/site-packages/napari/utils/events/containers/_typed.py\", line 236, in index\n",
      "    raise ValueError(\n",
      "ValueError: <Image layer 'Manual Tracking Data Layer' at 0x7fb21268ebf0> is not in list\n",
      "Traceback (most recent call last):\n",
      "  File \"/home/pablo/Documents/gabriel/manual-3d/src/manual_3d/_widget.py\", line 492, in hideEvent\n",
      "    self.viewer.layers.remove(self.image_layer_aux)\n",
      "  File \"/home/pablo/miniconda3/envs/napari-env/lib/python3.10/_collections_abc.py\", line 1163, in remove\n",
      "    del self[self.index(value)]\n",
      "  File \"/home/pablo/miniconda3/envs/napari-env/lib/python3.10/site-packages/napari/utils/events/containers/_typed.py\", line 236, in index\n",
      "    raise ValueError(\n",
      "ValueError: <Image layer 'Manual Tracking Data Layer' at 0x7fb21268ebf0> is not in list\n",
      "Traceback (most recent call last):\n",
      "  File \"/home/pablo/Documents/gabriel/manual-3d/src/manual_3d/_widget.py\", line 492, in hideEvent\n",
      "    self.viewer.layers.remove(self.image_layer_aux)\n",
      "  File \"/home/pablo/miniconda3/envs/napari-env/lib/python3.10/_collections_abc.py\", line 1163, in remove\n",
      "    del self[self.index(value)]\n",
      "  File \"/home/pablo/miniconda3/envs/napari-env/lib/python3.10/site-packages/napari/utils/events/containers/_typed.py\", line 236, in index\n",
      "    raise ValueError(\n",
      "ValueError: <Image layer 'Manual Tracking Data Layer' at 0x7fb21268ebf0> is not in list\n",
      "Traceback (most recent call last):\n",
      "  File \"/home/pablo/Documents/gabriel/manual-3d/src/manual_3d/_widget.py\", line 492, in hideEvent\n",
      "    self.viewer.layers.remove(self.image_layer_aux)\n",
      "  File \"/home/pablo/miniconda3/envs/napari-env/lib/python3.10/_collections_abc.py\", line 1163, in remove\n",
      "    del self[self.index(value)]\n",
      "  File \"/home/pablo/miniconda3/envs/napari-env/lib/python3.10/site-packages/napari/utils/events/containers/_typed.py\", line 236, in index\n",
      "    raise ValueError(\n",
      "ValueError: <Image layer 'Manual Tracking Data Layer' at 0x7fb21268ebf0> is not in list\n",
      "Traceback (most recent call last):\n",
      "  File \"/home/pablo/Documents/gabriel/manual-3d/src/manual_3d/_widget.py\", line 492, in hideEvent\n",
      "    self.viewer.layers.remove(self.image_layer_aux)\n",
      "  File \"/home/pablo/miniconda3/envs/napari-env/lib/python3.10/_collections_abc.py\", line 1163, in remove\n",
      "    del self[self.index(value)]\n",
      "  File \"/home/pablo/miniconda3/envs/napari-env/lib/python3.10/site-packages/napari/utils/events/containers/_typed.py\", line 236, in index\n",
      "    raise ValueError(\n",
      "ValueError: <Image layer 'Manual Tracking Data Layer' at 0x7fb21268ebf0> is not in list\n",
      "Traceback (most recent call last):\n",
      "  File \"/home/pablo/Documents/gabriel/manual-3d/src/manual_3d/_widget.py\", line 492, in hideEvent\n",
      "    self.viewer.layers.remove(self.image_layer_aux)\n",
      "  File \"/home/pablo/miniconda3/envs/napari-env/lib/python3.10/_collections_abc.py\", line 1163, in remove\n",
      "    del self[self.index(value)]\n",
      "  File \"/home/pablo/miniconda3/envs/napari-env/lib/python3.10/site-packages/napari/utils/events/containers/_typed.py\", line 236, in index\n",
      "    raise ValueError(\n",
      "ValueError: <Image layer 'Manual Tracking Data Layer' at 0x7fb21268ebf0> is not in list\n",
      "Traceback (most recent call last):\n",
      "  File \"/home/pablo/Documents/gabriel/manual-3d/src/manual_3d/_widget.py\", line 492, in hideEvent\n",
      "    self.viewer.layers.remove(self.image_layer_aux)\n",
      "  File \"/home/pablo/miniconda3/envs/napari-env/lib/python3.10/_collections_abc.py\", line 1163, in remove\n",
      "    del self[self.index(value)]\n",
      "  File \"/home/pablo/miniconda3/envs/napari-env/lib/python3.10/site-packages/napari/utils/events/containers/_typed.py\", line 236, in index\n",
      "    raise ValueError(\n",
      "ValueError: <Image layer 'Manual Tracking Data Layer' at 0x7fb21268ebf0> is not in list\n",
      "Traceback (most recent call last):\n",
      "  File \"/home/pablo/Documents/gabriel/manual-3d/src/manual_3d/_widget.py\", line 492, in hideEvent\n",
      "    self.viewer.layers.remove(self.image_layer_aux)\n",
      "  File \"/home/pablo/miniconda3/envs/napari-env/lib/python3.10/_collections_abc.py\", line 1163, in remove\n",
      "    del self[self.index(value)]\n",
      "  File \"/home/pablo/miniconda3/envs/napari-env/lib/python3.10/site-packages/napari/utils/events/containers/_typed.py\", line 236, in index\n",
      "    raise ValueError(\n",
      "ValueError: <Image layer 'Manual Tracking Data Layer' at 0x7fb21268ebf0> is not in list\n",
      "Traceback (most recent call last):\n",
      "  File \"/home/pablo/Documents/gabriel/manual-3d/src/manual_3d/_widget.py\", line 492, in hideEvent\n",
      "    self.viewer.layers.remove(self.image_layer_aux)\n",
      "  File \"/home/pablo/miniconda3/envs/napari-env/lib/python3.10/_collections_abc.py\", line 1163, in remove\n",
      "    del self[self.index(value)]\n",
      "  File \"/home/pablo/miniconda3/envs/napari-env/lib/python3.10/site-packages/napari/utils/events/containers/_typed.py\", line 236, in index\n",
      "    raise ValueError(\n",
      "ValueError: <Image layer 'Manual Tracking Data Layer' at 0x7fb21268ebf0> is not in list\n",
      "Traceback (most recent call last):\n",
      "  File \"/home/pablo/Documents/gabriel/manual-3d/src/manual_3d/_widget.py\", line 492, in hideEvent\n",
      "    self.viewer.layers.remove(self.image_layer_aux)\n",
      "  File \"/home/pablo/miniconda3/envs/napari-env/lib/python3.10/_collections_abc.py\", line 1163, in remove\n",
      "    del self[self.index(value)]\n",
      "  File \"/home/pablo/miniconda3/envs/napari-env/lib/python3.10/site-packages/napari/utils/events/containers/_typed.py\", line 236, in index\n",
      "    raise ValueError(\n",
      "ValueError: <Image layer 'Manual Tracking Data Layer' at 0x7fb21268ebf0> is not in list\n",
      "Traceback (most recent call last):\n",
      "  File \"/home/pablo/Documents/gabriel/manual-3d/src/manual_3d/_widget.py\", line 492, in hideEvent\n",
      "    self.viewer.layers.remove(self.image_layer_aux)\n",
      "  File \"/home/pablo/miniconda3/envs/napari-env/lib/python3.10/_collections_abc.py\", line 1163, in remove\n",
      "    del self[self.index(value)]\n",
      "  File \"/home/pablo/miniconda3/envs/napari-env/lib/python3.10/site-packages/napari/utils/events/containers/_typed.py\", line 236, in index\n",
      "    raise ValueError(\n",
      "ValueError: <Image layer 'Manual Tracking Data Layer' at 0x7fb21268ebf0> is not in list\n",
      "Traceback (most recent call last):\n",
      "  File \"/home/pablo/Documents/gabriel/manual-3d/src/manual_3d/_widget.py\", line 492, in hideEvent\n",
      "    self.viewer.layers.remove(self.image_layer_aux)\n",
      "  File \"/home/pablo/miniconda3/envs/napari-env/lib/python3.10/_collections_abc.py\", line 1163, in remove\n",
      "    del self[self.index(value)]\n",
      "  File \"/home/pablo/miniconda3/envs/napari-env/lib/python3.10/site-packages/napari/utils/events/containers/_typed.py\", line 236, in index\n",
      "    raise ValueError(\n",
      "ValueError: <Image layer 'Manual Tracking Data Layer' at 0x7fb21268ebf0> is not in list\n",
      "Traceback (most recent call last):\n",
      "  File \"/home/pablo/Documents/gabriel/manual-3d/src/manual_3d/_widget.py\", line 492, in hideEvent\n",
      "    self.viewer.layers.remove(self.image_layer_aux)\n",
      "  File \"/home/pablo/miniconda3/envs/napari-env/lib/python3.10/_collections_abc.py\", line 1163, in remove\n",
      "    del self[self.index(value)]\n",
      "  File \"/home/pablo/miniconda3/envs/napari-env/lib/python3.10/site-packages/napari/utils/events/containers/_typed.py\", line 236, in index\n",
      "    raise ValueError(\n",
      "ValueError: <Image layer 'Manual Tracking Data Layer' at 0x7fb21268ebf0> is not in list\n",
      "Traceback (most recent call last):\n",
      "  File \"/home/pablo/Documents/gabriel/manual-3d/src/manual_3d/_widget.py\", line 492, in hideEvent\n",
      "    self.viewer.layers.remove(self.image_layer_aux)\n",
      "  File \"/home/pablo/miniconda3/envs/napari-env/lib/python3.10/_collections_abc.py\", line 1163, in remove\n",
      "    del self[self.index(value)]\n",
      "  File \"/home/pablo/miniconda3/envs/napari-env/lib/python3.10/site-packages/napari/utils/events/containers/_typed.py\", line 236, in index\n",
      "    raise ValueError(\n",
      "ValueError: <Image layer 'Manual Tracking Data Layer' at 0x7fb21268ebf0> is not in list\n",
      "Traceback (most recent call last):\n",
      "  File \"/home/pablo/Documents/gabriel/manual-3d/src/manual_3d/_widget.py\", line 492, in hideEvent\n",
      "    self.viewer.layers.remove(self.image_layer_aux)\n",
      "  File \"/home/pablo/miniconda3/envs/napari-env/lib/python3.10/_collections_abc.py\", line 1163, in remove\n",
      "    del self[self.index(value)]\n",
      "  File \"/home/pablo/miniconda3/envs/napari-env/lib/python3.10/site-packages/napari/utils/events/containers/_typed.py\", line 236, in index\n",
      "    raise ValueError(\n",
      "ValueError: <Image layer 'Manual Tracking Data Layer' at 0x7fb21268ebf0> is not in list\n",
      "Traceback (most recent call last):\n",
      "  File \"/home/pablo/Documents/gabriel/manual-3d/src/manual_3d/_widget.py\", line 492, in hideEvent\n",
      "    self.viewer.layers.remove(self.image_layer_aux)\n",
      "  File \"/home/pablo/miniconda3/envs/napari-env/lib/python3.10/_collections_abc.py\", line 1163, in remove\n",
      "    del self[self.index(value)]\n",
      "  File \"/home/pablo/miniconda3/envs/napari-env/lib/python3.10/site-packages/napari/utils/events/containers/_typed.py\", line 236, in index\n",
      "    raise ValueError(\n",
      "ValueError: <Image layer 'Manual Tracking Data Layer' at 0x7fb21268ebf0> is not in list\n",
      "Traceback (most recent call last):\n",
      "  File \"/home/pablo/Documents/gabriel/manual-3d/src/manual_3d/_widget.py\", line 492, in hideEvent\n",
      "    self.viewer.layers.remove(self.image_layer_aux)\n",
      "  File \"/home/pablo/miniconda3/envs/napari-env/lib/python3.10/_collections_abc.py\", line 1163, in remove\n",
      "    del self[self.index(value)]\n",
      "  File \"/home/pablo/miniconda3/envs/napari-env/lib/python3.10/site-packages/napari/utils/events/containers/_typed.py\", line 236, in index\n",
      "    raise ValueError(\n",
      "ValueError: <Image layer 'Manual Tracking Data Layer' at 0x7fb21268ebf0> is not in list\n",
      "Traceback (most recent call last):\n",
      "  File \"/home/pablo/Documents/gabriel/manual-3d/src/manual_3d/_widget.py\", line 492, in hideEvent\n",
      "    self.viewer.layers.remove(self.image_layer_aux)\n",
      "  File \"/home/pablo/miniconda3/envs/napari-env/lib/python3.10/_collections_abc.py\", line 1163, in remove\n",
      "    del self[self.index(value)]\n",
      "  File \"/home/pablo/miniconda3/envs/napari-env/lib/python3.10/site-packages/napari/utils/events/containers/_typed.py\", line 236, in index\n",
      "    raise ValueError(\n",
      "ValueError: <Image layer 'Manual Tracking Data Layer' at 0x7fb21268ebf0> is not in list\n"
     ]
    }
   ],
   "source": [
    "# import manual_3d\n",
    "from importlib import reload\n",
    "reload(manual_3d)\n",
    "import manual_3d\n",
    "\n",
    "viewer.window.add_dock_widget(manual_3d.ManualTracking(viewer))"
   ]
  },
  {
   "cell_type": "code",
   "execution_count": null,
   "id": "8ded4fff-9a9e-4de5-92f6-ce79a5151d39",
   "metadata": {},
   "outputs": [],
   "source": []
  }
 ],
 "metadata": {
  "kernelspec": {
   "display_name": "napari-env",
   "language": "python",
   "name": "napari-env"
  },
  "language_info": {
   "codemirror_mode": {
    "name": "ipython",
    "version": 3
   },
   "file_extension": ".py",
   "mimetype": "text/x-python",
   "name": "python",
   "nbconvert_exporter": "python",
   "pygments_lexer": "ipython3",
   "version": "3.10.15"
  }
 },
 "nbformat": 4,
 "nbformat_minor": 5
}
