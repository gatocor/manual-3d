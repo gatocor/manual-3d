{
 "cells": [
  {
   "cell_type": "code",
   "execution_count": 1,
   "id": "b497156c-f1ea-483d-9a22-ac7016b7bbca",
   "metadata": {},
   "outputs": [
    {
     "name": "stderr",
     "output_type": "stream",
     "text": [
      "WARNING: Warning: Ignoring XDG_SESSION_TYPE=wayland on Gnome. Use QT_QPA_PLATFORM=wayland to run on Wayland anyway.\n"
     ]
    }
   ],
   "source": [
    "%load_ext autoreload\n",
    "%autoreload 2\n",
    "\n",
    "from napari import Viewer\n",
    "\n",
    "viewer = Viewer()"
   ]
  },
  {
   "cell_type": "code",
   "execution_count": 9,
   "id": "d28ab326-e92e-4f14-8a37-04bbc322c9c8",
   "metadata": {},
   "outputs": [
    {
     "data": {
      "text/plain": [
       "<napari._qt.widgets.qt_viewer_dock_widget.QtViewerDockWidget at 0x7f163c405bd0>"
      ]
     },
     "execution_count": 9,
     "metadata": {},
     "output_type": "execute_result"
    },
    {
     "name": "stdout",
     "output_type": "stream",
     "text": [
      "Settings saved to /home/gabriel/Documents/napari_annotation_plugin/data_tracking/settings.json\n",
      "Empty points.npy and trackings.npy created in /home/gabriel/Documents/napari_annotation_plugin/data_tracking\n"
     ]
    }
   ],
   "source": [
    "import manual_3d\n",
    "from importlib import reload\n",
    "reload(manual_3d)\n",
    "from manual_3d import SetUpTracking, LoadTracking\n",
    "\n",
    "viewer.window.add_dock_widget(manual_3d.SetUpTracking(viewer))\n",
    "# viewer.window.add_dock_widget(manual_3d.LoadTracking(viewer))"
   ]
  },
  {
   "cell_type": "code",
   "execution_count": 53,
   "id": "9e39f7eb-be45-40d6-a28b-eb80fc9fc125",
   "metadata": {},
   "outputs": [
    {
     "data": {
      "text/plain": [
       "array([[  4.        ,  67.        , 598.4835552 , 419.14238305]])"
      ]
     },
     "execution_count": 53,
     "metadata": {},
     "output_type": "execute_result"
    }
   ],
   "source": [
    "viewer.layers[\"Points\"].data"
   ]
  },
  {
   "cell_type": "code",
   "execution_count": 61,
   "id": "0f082dc0-5796-476c-bb70-d810a3aab8f3",
   "metadata": {},
   "outputs": [
    {
     "data": {
      "text/plain": [
       "array([], shape=(0, 4), dtype=float64)"
      ]
     },
     "execution_count": 61,
     "metadata": {},
     "output_type": "execute_result"
    },
    {
     "name": "stdout",
     "output_type": "stream",
     "text": [
      "Data layer loaded successfully.\n",
      "Holi (0, 4) [2.0, 0.347, 0.347]\n",
      "<class 'numpy.ndarray'> [2.0, 0.347, 0.347]\n",
      "Points layer (empty or not) loaded successfully.\n",
      "Settings saved to /home/gabriel/Documents/napari_annotation_plugin/data_tracking/settings.json\n",
      "Empty points.npy and trackings.npy created in /home/gabriel/Documents/napari_annotation_plugin/data_tracking\n",
      "Data layer loaded successfully.\n",
      "Holi (0, 4) [2.0, 0.347, 0.347]\n",
      "<class 'numpy.ndarray'> [2.0, 0.347, 0.347]\n",
      "Points layer (empty or not) loaded successfully.\n"
     ]
    },
    {
     "name": "stderr",
     "output_type": "stream",
     "text": [
      "Traceback (most recent call last):\n",
      "  File \"/home/gabriel/Downloads/yes/envs/napari-env/lib/python3.10/site-packages/superqt/utils/_throttler.py\", line 286, in _set_future_result\n",
      "    result = self._func(*self._args[: self._max_args], **self._kwargs)\n",
      "  File \"/home/gabriel/Downloads/yes/envs/napari-env/lib/python3.10/site-packages/superqt/utils/_throttler.py\", line 226, in weak_func\n",
      "    return method(*args, **kwargs)\n",
      "  File \"/home/gabriel/Downloads/yes/envs/napari-env/lib/python3.10/site-packages/napari/_vispy/canvas.py\", line 456, in _on_mouse_move\n",
      "    self._process_mouse_event(mouse_move_callbacks, event)\n",
      "  File \"/home/gabriel/Downloads/yes/envs/napari-env/lib/python3.10/site-packages/napari/_vispy/canvas.py\", line 417, in _process_mouse_event\n",
      "    mouse_callbacks(layer, event)\n",
      "  File \"/home/gabriel/Downloads/yes/envs/napari-env/lib/python3.10/site-packages/napari/utils/interactions.py\", line 177, in mouse_move_callbacks\n",
      "    next(gen)\n",
      "  File \"/home/gabriel/Downloads/yes/envs/napari-env/lib/python3.10/site-packages/napari/layers/points/_points_mouse_bindings.py\", line 92, in select\n",
      "    _update_drag_vectors_from_event(layer=layer, event=event)\n",
      "  File \"/home/gabriel/Downloads/yes/envs/napari-env/lib/python3.10/site-packages/napari/layers/points/_points_mouse_bindings.py\", line 195, in _update_drag_vectors_from_event\n",
      "    layer_dims_displayed = layer._world_to_layer_dims(\n",
      "  File \"/home/gabriel/Downloads/yes/envs/napari-env/lib/python3.10/site-packages/napari/layers/base/base.py\", line 1748, in _world_to_layer_dims\n",
      "    return self._world_to_layer_dims_impl(\n",
      "  File \"/home/gabriel/Downloads/yes/envs/napari-env/lib/python3.10/site-packages/napari/layers/base/base.py\", line 1760, in _world_to_layer_dims_impl\n",
      "    assert world_dims.min() == 0\n",
      "AssertionError\n",
      "Traceback (most recent call last):\n",
      "  File \"/home/gabriel/Downloads/yes/envs/napari-env/lib/python3.10/site-packages/vispy/app/backends/_qt.py\", line 506, in mouseReleaseEvent\n",
      "    self._vispy_mouse_release(\n",
      "  File \"/home/gabriel/Downloads/yes/envs/napari-env/lib/python3.10/site-packages/vispy/app/base.py\", line 224, in _vispy_mouse_release\n",
      "    ev = self._vispy_canvas.events.mouse_release(**kwargs)\n",
      "  File \"/home/gabriel/Downloads/yes/envs/napari-env/lib/python3.10/site-packages/vispy/util/event.py\", line 453, in __call__\n",
      "    self._invoke_callback(cb, event)\n",
      "  File \"/home/gabriel/Downloads/yes/envs/napari-env/lib/python3.10/site-packages/vispy/util/event.py\", line 471, in _invoke_callback\n",
      "    _handle_exception(self.ignore_callback_errors,\n",
      "  File \"/home/gabriel/Downloads/yes/envs/napari-env/lib/python3.10/site-packages/vispy/util/event.py\", line 469, in _invoke_callback\n",
      "    cb(event)\n",
      "  File \"/home/gabriel/Downloads/yes/envs/napari-env/lib/python3.10/site-packages/napari/_vispy/canvas.py\", line 484, in _on_mouse_release\n",
      "    self._process_mouse_event(mouse_release_callbacks, event)\n",
      "  File \"/home/gabriel/Downloads/yes/envs/napari-env/lib/python3.10/site-packages/napari/_vispy/canvas.py\", line 417, in _process_mouse_event\n",
      "    mouse_callbacks(layer, event)\n",
      "  File \"/home/gabriel/Downloads/yes/envs/napari-env/lib/python3.10/site-packages/napari/utils/interactions.py\", line 216, in mouse_release_callbacks\n",
      "    next(gen)\n",
      "  File \"/home/gabriel/Downloads/yes/envs/napari-env/lib/python3.10/site-packages/napari/layers/points/_points_mouse_bindings.py\", line 109, in select\n",
      "    _select_points_from_drag(\n",
      "  File \"/home/gabriel/Downloads/yes/envs/napari-env/lib/python3.10/site-packages/napari/layers/points/_points_mouse_bindings.py\", line 238, in _select_points_from_drag\n",
      "    selection = _points_in_box_3d(\n",
      "  File \"/home/gabriel/Downloads/yes/envs/napari-env/lib/python3.10/site-packages/napari/layers/points/_points_utils.py\", line 158, in _points_in_box_3d\n",
      "    bbox_corners = _create_box_from_corners_3d(\n",
      "  File \"/home/gabriel/Downloads/yes/envs/napari-env/lib/python3.10/site-packages/napari/layers/points/_points_utils.py\", line 43, in _create_box_from_corners_3d\n",
      "    horizontal_vector = np.cross(box_normal, up_vector)\n",
      "  File \"<__array_function__ internals>\", line 200, in cross\n",
      "  File \"/home/gabriel/Downloads/yes/envs/napari-env/lib/python3.10/site-packages/numpy/core/numeric.py\", line 1605, in cross\n",
      "    axisa = normalize_axis_index(axisa, a.ndim, msg_prefix='axisa')\n",
      "numpy.AxisError: axisa: axis -1 is out of bounds for array of dimension 0\n"
     ]
    }
   ],
   "source": [
    "viewer.layers[\"Points Layer\"].data"
   ]
  },
  {
   "cell_type": "code",
   "execution_count": null,
   "id": "60cce139-953e-4bda-bd68-e63bd4960e8d",
   "metadata": {},
   "outputs": [],
   "source": []
  }
 ],
 "metadata": {
  "kernelspec": {
   "display_name": "napari-env",
   "language": "python",
   "name": "napari-env"
  },
  "language_info": {
   "codemirror_mode": {
    "name": "ipython",
    "version": 3
   },
   "file_extension": ".py",
   "mimetype": "text/x-python",
   "name": "python",
   "nbconvert_exporter": "python",
   "pygments_lexer": "ipython3",
   "version": "3.10.15"
  }
 },
 "nbformat": 4,
 "nbformat_minor": 5
}
