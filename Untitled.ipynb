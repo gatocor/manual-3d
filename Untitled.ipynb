{
 "cells": [
  {
   "cell_type": "code",
   "execution_count": 1,
   "id": "b497156c-f1ea-483d-9a22-ac7016b7bbca",
   "metadata": {},
   "outputs": [
    {
     "name": "stderr",
     "output_type": "stream",
     "text": [
      "WARNING: Warning: Ignoring XDG_SESSION_TYPE=wayland on Gnome. Use QT_QPA_PLATFORM=wayland to run on Wayland anyway.\n"
     ]
    }
   ],
   "source": [
    "%load_ext autoreload\n",
    "%autoreload 2\n",
    "\n",
    "from napari import Viewer\n",
    "\n",
    "viewer = Viewer()"
   ]
  },
  {
   "cell_type": "code",
   "execution_count": 40,
   "id": "ee4f3544-8193-4167-ad71-a1b92a5e0de2",
   "metadata": {},
   "outputs": [
    {
     "data": {
      "text/plain": [
       "<napari._qt.widgets.qt_viewer_dock_widget.QtViewerDockWidget at 0x7efd21074280>"
      ]
     },
     "execution_count": 40,
     "metadata": {},
     "output_type": "execute_result"
    },
    {
     "name": "stdout",
     "output_type": "stream",
     "text": [
      "Manual tracking image layer added with memory-efficient views.\n",
      "Manual tracking points layer added with memory-efficient view.\n",
      "Point added callback enabled.\n",
      "(1, 2, 3)\n",
      "First point stored at: [  3.          79.52573828 591.12063456 655.93146431], direction: [ 0.34580439 -0.87048692  0.35024542]\n",
      "(1, 2, 3)\n",
      "Second point stored at: [  3.          80.20321891 588.49567787 658.68452738], direction: [ 0.42942974 -0.86004146  0.27553365]\n",
      "Closest point calculated at: [-1071.93563535  2768.42368327  -559.31695941]\n",
      "First two points removed and closest point [    3.         -1071.93563535  2768.42368327  -559.31695941] appended.\n",
      "(1, 2, 3)\n",
      "First point stored at: [  3.          89.45958643 616.21146256 662.04634634], direction: [ 0.42942974 -0.86004146  0.27553365]\n",
      "(1, 2, 3)\n",
      "Second point stored at: [  3.          95.05427777 547.65501397 704.37749638], direction: [ 0.45555944 -0.87688225 -0.15343764]\n",
      "Closest point calculated at: [-652.45030352 1676.7706468   287.61575221]\n",
      "First two points removed and closest point [   3.         -652.45030352 1676.7706468   287.61575221] appended.\n",
      "(1, 2, 3)\n",
      "First point stored at: [  3.          97.75657456 560.9328272  674.73906825], direction: [ 0.45555944 -0.87688225 -0.15343764]\n",
      "(1, 2, 3)\n",
      "Second point stored at: [  3.          76.74098391 557.61213357 683.66023911], direction: [ 0.88914094 -0.43791622 -0.13288255]\n",
      "Closest point calculated at: [ 531.46408182 -283.61851282  223.98182393]\n",
      "First two points removed and closest point [   3.          531.46408182 -283.61851282  223.98182393] appended.\n",
      "(1, 2, 3)\n",
      "First point stored at: [  3.          90.22882167 545.98029791 634.09770855], direction: [ 0.72802247 -0.25939971 -0.6345826 ]\n",
      "(1, 2, 3)\n",
      "Second point stored at: [  3.          91.31451339 511.00270418 640.62143156], direction: [ 0.70802196  0.03002548 -0.70555182]\n",
      "Closest point calculated at: [ 939.17583534  101.00044478 -504.71655021]\n",
      "First two points removed and closest point [   3.          939.17583534  101.00044478 -504.71655021] appended.\n",
      "Manual tracking image layer removed.\n",
      "Manual tracking points layer removed.\n",
      "Point added callback disabled.\n"
     ]
    }
   ],
   "source": [
    "## import manual_3d\n",
    "from importlib import reload\n",
    "reload(manual_3d)\n",
    "from manual_3d import SetUpTracking, LoadTracking, ManualTracking\n",
    "\n",
    "# viewer.window.add_dock_widget(manual_3d.SetUpTracking(viewer))\n",
    "# viewer.window.add_dock_widget(manual_3d.LoadTracking(viewer))\n",
    "viewer.window.add_dock_widget(manual_3d.ManualTracking(viewer))"
   ]
  },
  {
   "cell_type": "code",
   "execution_count": null,
   "id": "8d08ed9b-3ce2-4985-9629-ab682ce82101",
   "metadata": {},
   "outputs": [],
   "source": []
  }
 ],
 "metadata": {
  "kernelspec": {
   "display_name": "napari-env",
   "language": "python",
   "name": "napari-env"
  },
  "language_info": {
   "codemirror_mode": {
    "name": "ipython",
    "version": 3
   },
   "file_extension": ".py",
   "mimetype": "text/x-python",
   "name": "python",
   "nbconvert_exporter": "python",
   "pygments_lexer": "ipython3",
   "version": "3.10.15"
  }
 },
 "nbformat": 4,
 "nbformat_minor": 5
}
