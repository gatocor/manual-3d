{
 "cells": [
  {
   "cell_type": "code",
   "execution_count": 1,
   "id": "b497156c-f1ea-483d-9a22-ac7016b7bbca",
   "metadata": {},
   "outputs": [
    {
     "name": "stderr",
     "output_type": "stream",
     "text": [
      "WARNING: Warning: Ignoring XDG_SESSION_TYPE=wayland on Gnome. Use QT_QPA_PLATFORM=wayland to run on Wayland anyway.\n"
     ]
    }
   ],
   "source": [
    "%load_ext autoreload\n",
    "%autoreload 2\n",
    "\n",
    "from napari import Viewer\n",
    "import skimage\n",
    "import manual_3d\n",
    "import numpy as np\n",
    "\n",
    "viewer = Viewer()"
   ]
  },
  {
   "cell_type": "code",
   "execution_count": 9,
   "id": "4bc57c7f-3684-4703-8370-ce6e16b8a800",
   "metadata": {},
   "outputs": [
    {
     "data": {
      "text/plain": [
       "<napari._qt.widgets.qt_viewer_dock_widget.QtViewerDockWidget at 0x7f6c4873dea0>"
      ]
     },
     "execution_count": 9,
     "metadata": {},
     "output_type": "execute_result"
    },
    {
     "name": "stdout",
     "output_type": "stream",
     "text": [
      "[[  0.           0.         102.6038738  668.92826485 214.45084544]\n",
      " [  0.           1.         101.68796451 664.2343131  208.21405282]\n",
      " [  0.           2.         101.37449003 661.58592407 209.43111466]\n",
      " [  1.           0.          68.18351275 681.40007992 492.08725478]\n",
      " [  1.           1.          68.42499882 682.86119849 490.38698927]\n",
      " [  1.           2.          69.30793301 688.48142187 487.70555459]\n",
      " [  2.           0.          52.82642669 395.5118756  278.99863262]\n",
      " [  2.           1.          52.81893432 397.78420824 272.45056415]\n",
      " [  2.           2.          51.71075912 404.61307117 265.42875785]\n",
      " [  3.           0.         115.52333852 471.62540037 292.00477866]\n",
      " [  3.           1.         112.66472953 484.57853265 288.08699382]\n",
      " [  3.           2.         113.58850156 490.98722541 280.7721496 ]\n",
      " [  4.           0.         114.40559723 519.26432443 258.15567697]\n",
      " [  4.           1.         113.48930587 528.89046626 258.93335396]\n",
      " [  4.           2.         113.81062056 533.12229996 255.72671431]\n",
      " [  5.           0.         110.53042505 723.05428001 344.67387884]\n",
      " [  5.           1.         111.39722539 726.14068516 338.54310912]\n",
      " [  5.           2.         109.04962715 729.85695412 337.4493994 ]\n",
      " [  6.           0.          87.98952251 782.93025157 559.92935528]\n",
      " [  6.           1.          87.24496474 781.94813099 570.73544069]\n",
      " [  6.           2.          86.88309658 777.96613114 573.13719406]\n",
      " [  7.           0.          87.47761744 792.13279958 518.07279927]\n",
      " [  7.           1.          86.77134483 794.2561773  526.78304529]\n",
      " [  7.           2.          87.0727639  792.1550246  532.00650752]\n",
      " [  8.           0.          87.2510267  734.62227763 632.75758604]\n",
      " [  8.           1.          85.99504767 730.29682162 633.86982502]\n",
      " [  8.           2.          85.30404843 731.76180377 634.61059904]\n",
      " [  9.           0.          96.24389826 556.3493185  657.08619614]\n",
      " [  9.           1.          96.75251699 557.95085123 654.65398392]\n",
      " [  9.           2.          96.85445876 551.40769098 651.56812523]\n",
      " [ 10.           0.          47.67665866 421.12576055 396.80843396]\n",
      " [ 10.           1.          47.16764079 421.38516383 391.32204056]\n",
      " [ 10.           2.          47.2715533  425.72059449 387.99963234]\n",
      " [ 11.           0.         112.90002277 563.27216746 354.36290682]\n",
      " [ 11.           1.         112.65955517 561.24074166 352.50076169]\n",
      " [ 11.           2.         112.86998445 561.56490436 352.89765019]\n",
      " [ 12.           0.          81.04697717 658.07207639 593.38705409]\n",
      " [ 12.           1.          80.10500568 664.53795988 591.84121351]\n",
      " [ 12.           2.          80.73224201 670.1340463  586.40461111]]\n"
     ]
    }
   ],
   "source": [
    "## import manual_3d\n",
    "from importlib import reload\n",
    "reload(manual_3d)\n",
    "import manual_3d\n",
    "\n",
    "viewer.window.add_dock_widget(manual_3d.LoadTracks(viewer))"
   ]
  },
  {
   "cell_type": "code",
   "execution_count": 6,
   "id": "c40282d4-7fb9-4e4f-97af-a57a5644f38e",
   "metadata": {},
   "outputs": [
    {
     "data": {
      "text/plain": [
       "<napari._qt.widgets.qt_viewer_dock_widget.QtViewerDockWidget at 0x7fe5685c6200>"
      ]
     },
     "execution_count": 6,
     "metadata": {},
     "output_type": "execute_result"
    },
    {
     "name": "stdout",
     "output_type": "stream",
     "text": [
      "Data layer loaded successfully.\n",
      "Data layer loaded successfully.\n"
     ]
    }
   ],
   "source": [
    "## import manual_3d\n",
    "from importlib import reload\n",
    "reload(manual_3d)\n",
    "import manual_3d\n",
    "\n",
    "viewer.window.add_dock_widget(manual_3d.LoadData(viewer))"
   ]
  },
  {
   "cell_type": "code",
   "execution_count": 7,
   "id": "f228f14b-0f45-4d7f-b5aa-857d56bda5fd",
   "metadata": {},
   "outputs": [
    {
     "data": {
      "text/plain": [
       "<napari._qt.widgets.qt_viewer_dock_widget.QtViewerDockWidget at 0x7fe5684bd870>"
      ]
     },
     "execution_count": 7,
     "metadata": {},
     "output_type": "execute_result"
    },
    {
     "name": "stdout",
     "output_type": "stream",
     "text": [
      "(38214, 5)\n",
      "Vector layer loaded successfully.\n"
     ]
    }
   ],
   "source": [
    "## import manual_3d\n",
    "from importlib import reload\n",
    "reload(manual_3d)\n",
    "import manual_3d\n",
    "\n",
    "viewer.window.add_dock_widget(manual_3d.LoadVectorfield(viewer))"
   ]
  },
  {
   "cell_type": "code",
   "execution_count": 15,
   "id": "b58229fd-c795-4c2a-b8e2-01ec067d03bc",
   "metadata": {},
   "outputs": [
    {
     "data": {
      "text/plain": [
       "<napari._qt.widgets.qt_viewer_dock_widget.QtViewerDockWidget at 0x7f7f204ddf30>"
      ]
     },
     "execution_count": 15,
     "metadata": {},
     "output_type": "execute_result"
    }
   ],
   "source": [
    "## import manual_3d\n",
    "from importlib import reload\n",
    "reload(manual_3d)\n",
    "import manual_3d\n",
    "\n",
    "viewer.window.add_dock_widget(manual_3d.Box(viewer))"
   ]
  },
  {
   "cell_type": "code",
   "execution_count": 3,
   "id": "10896350-79ae-4b81-a4ac-82aa11c71802",
   "metadata": {},
   "outputs": [
    {
     "data": {
      "text/plain": [
       "<napari._qt.widgets.qt_viewer_dock_widget.QtViewerDockWidget at 0x7f835e9615a0>"
      ]
     },
     "execution_count": 3,
     "metadata": {},
     "output_type": "execute_result"
    },
    {
     "name": "stderr",
     "output_type": "stream",
     "text": [
      "Traceback (most recent call last):\n",
      "  File \"/home/gabriel/Documents/napari_annotation_plugin/manual-3d/src/manual_3d/_widget.py\", line 411, in exec_function\n",
      "    self.viewer.layers.move(len(self.viewer.layers), 0)\n",
      "  File \"/home/gabriel/miniconda3/envs/napari-env/lib/python3.10/site-packages/napari/utils/events/containers/_evented_list.py\", line 240, in move\n",
      "    item = self._list.pop(src_index)\n",
      "IndexError: pop index out of range\n"
     ]
    }
   ],
   "source": [
    "## import manual_3d\n",
    "from importlib import reload\n",
    "reload(manual_3d)\n",
    "import manual_3d\n",
    "\n",
    "viewer.window.add_dock_widget(manual_3d.Parabola(viewer))"
   ]
  },
  {
   "cell_type": "code",
   "execution_count": 2,
   "id": "ee4f3544-8193-4167-ad71-a1b92a5e0de2",
   "metadata": {},
   "outputs": [
    {
     "data": {
      "text/plain": [
       "<napari._qt.widgets.qt_viewer_dock_widget.QtViewerDockWidget at 0x7f7c94244e50>"
      ]
     },
     "execution_count": 2,
     "metadata": {},
     "output_type": "execute_result"
    },
    {
     "name": "stdout",
     "output_type": "stream",
     "text": [
      "Settings saved to /home/gabriel/Documents/napari_annotation_plugin/data_tracking/settings.json\n",
      "Empty points.npy and trackings.npy created in /home/gabriel/Documents/napari_annotation_plugin/data_tracking\n"
     ]
    }
   ],
   "source": [
    "## import manual_3d\n",
    "from importlib import reload\n",
    "reload(manual_3d)\n",
    "import manual_3d\n",
    "\n",
    "viewer.window.add_dock_widget(manual_3d.SetUpTracking(viewer))"
   ]
  },
  {
   "cell_type": "code",
   "execution_count": 10,
   "id": "d7dc89a4-c346-4a3f-86e2-c5db05fda3a9",
   "metadata": {},
   "outputs": [
    {
     "data": {
      "text/plain": [
       "<napari._qt.widgets.qt_viewer_dock_widget.QtViewerDockWidget at 0x7f7cc01e0820>"
      ]
     },
     "execution_count": 10,
     "metadata": {},
     "output_type": "execute_result"
    }
   ],
   "source": [
    "## import manual_3d\n",
    "from importlib import reload\n",
    "reload(manual_3d)\n",
    "import manual_3d\n",
    "\n",
    "viewer.window.add_dock_widget(manual_3d.LoadTracking(viewer))"
   ]
  },
  {
   "cell_type": "code",
   "execution_count": 2,
   "id": "265e1466-14e9-44e9-b9fd-0642fb218c28",
   "metadata": {},
   "outputs": [
    {
     "ename": "NameError",
     "evalue": "name 'manual_3d' is not defined",
     "output_type": "error",
     "traceback": [
      "\u001b[0;31m---------------------------------------------------------------------------\u001b[0m",
      "\u001b[0;31mNameError\u001b[0m                                 Traceback (most recent call last)",
      "Cell \u001b[0;32mIn[2], line 3\u001b[0m\n\u001b[1;32m      1\u001b[0m \u001b[38;5;66;03m# import manual_3d\u001b[39;00m\n\u001b[1;32m      2\u001b[0m \u001b[38;5;28;01mfrom\u001b[39;00m \u001b[38;5;21;01mimportlib\u001b[39;00m \u001b[38;5;28;01mimport\u001b[39;00m reload\n\u001b[0;32m----> 3\u001b[0m reload(\u001b[43mmanual_3d\u001b[49m)\n\u001b[1;32m      4\u001b[0m \u001b[38;5;28;01mimport\u001b[39;00m \u001b[38;5;21;01mmanual_3d\u001b[39;00m\n\u001b[1;32m      6\u001b[0m viewer\u001b[38;5;241m.\u001b[39mwindow\u001b[38;5;241m.\u001b[39madd_dock_widget(manual_3d\u001b[38;5;241m.\u001b[39mManualTracking(viewer))\n",
      "\u001b[0;31mNameError\u001b[0m: name 'manual_3d' is not defined"
     ]
    }
   ],
   "source": [
    "# import manual_3d\n",
    "from importlib import reload\n",
    "reload(manual_3d)\n",
    "import manual_3d\n",
    "\n",
    "if \"Data Layer\" not in viewer.layers:\n",
    "    m = manual_3d.LoadTracking(viewer)\n",
    "    m.folder_input.setText(\"/home/gabriel/Documents/napari_annotation_plugin/data_tracking\")\n",
    "    m.load_layers()\n",
    "viewer.window.add_dock_widget(manual_3d.ManualTracking(viewer))"
   ]
  },
  {
   "cell_type": "markdown",
   "id": "ea37c08c-7efa-4dfc-b7a4-c8ca7177cd57",
   "metadata": {},
   "source": [
    "# AI"
   ]
  },
  {
   "cell_type": "code",
   "execution_count": 10,
   "id": "126c4152-363f-4c9e-a5d7-eb77332e311d",
   "metadata": {},
   "outputs": [
    {
     "data": {
      "text/plain": [
       "<napari._qt.widgets.qt_viewer_dock_widget.QtViewerDockWidget at 0x7f2c2cf9fac0>"
      ]
     },
     "execution_count": 10,
     "metadata": {},
     "output_type": "execute_result"
    }
   ],
   "source": [
    "# import manual_3d\n",
    "from importlib import reload\n",
    "reload(manual_3d)\n",
    "import manual_3d\n",
    "\n",
    "if \"Data Layer\" not in viewer.layers:\n",
    "    m = manual_3d.LoadTracking(viewer)\n",
    "    m.folder_input.setText(\"/home/gabriel/Documents/napari_annotation_plugin/tracking_automatic\")\n",
    "    m.load_layers()\n",
    "viewer.window.add_dock_widget(manual_3d.ManualTracking(viewer))"
   ]
  },
  {
   "cell_type": "code",
   "execution_count": 3,
   "id": "a9ad3882-380e-4ae7-a9b9-6d34257ed120",
   "metadata": {},
   "outputs": [],
   "source": [
    "manual_3d.save_chunks_and_coords_from_tracks(\n",
    "    viewer.layers[\"Data Layer\"].data,\n",
    "    viewer.layers[\"Tracking Layer\"].data,  \n",
    "    (8,50,50),\n",
    "    \"/home/gabriel/Documents/napari_annotation_plugin/training\"\n",
    ")"
   ]
  },
  {
   "cell_type": "code",
   "execution_count": 4,
   "id": "3a2c16fe-c205-4aa0-aa0a-d1691c485ccb",
   "metadata": {},
   "outputs": [],
   "source": [
    "loader = manual_3d.ImagePointDataset(\"/home/gabriel/Documents/napari_annotation_plugin/training\")"
   ]
  },
  {
   "cell_type": "code",
   "execution_count": 5,
   "id": "f0df6bad-dc32-4d55-95a3-2603d3c480c7",
   "metadata": {},
   "outputs": [
    {
     "data": {
      "text/plain": [
       "torch.Size([1, 17, 101, 101])"
      ]
     },
     "execution_count": 5,
     "metadata": {},
     "output_type": "execute_result"
    }
   ],
   "source": [
    "image = loader.__getitem__(0)[0];\n",
    "image.shape"
   ]
  },
  {
   "cell_type": "code",
   "execution_count": 9,
   "id": "3d92f59b-2405-48d9-9c11-f5d367cea3d2",
   "metadata": {},
   "outputs": [],
   "source": [
    "from importlib import reload\n",
    "reload(manual_3d)\n",
    "import manual_3d"
   ]
  },
  {
   "cell_type": "code",
   "execution_count": 10,
   "id": "1d0d2d1b-46cc-4e4d-bfd2-2e4730e1dae5",
   "metadata": {},
   "outputs": [
    {
     "data": {
      "text/plain": [
       "Dual3DImageNet(\n",
       "  (contract1): ContractingBlock(\n",
       "    (conv1): Conv3d(1, 32, kernel_size=(3, 24, 24), stride=(1, 1, 1), padding=(1, 11, 11))\n",
       "    (conv2): Conv3d(32, 32, kernel_size=(3, 24, 24), stride=(1, 1, 1), padding=(1, 11, 11))\n",
       "    (pool): MaxPool3d(kernel_size=(1, 8, 8), stride=(1, 8, 8), padding=0, dilation=1, ceil_mode=False)\n",
       "  )\n",
       "  (contract2): ContractingBlock(\n",
       "    (conv1): Conv3d(32, 64, kernel_size=(3, 3, 3), stride=(1, 1, 1), padding=(1, 1, 1))\n",
       "    (conv2): Conv3d(64, 64, kernel_size=(3, 3, 3), stride=(1, 1, 1), padding=(1, 1, 1))\n",
       "    (pool): MaxPool3d(kernel_size=(1, 1, 1), stride=(1, 1, 1), padding=0, dilation=1, ceil_mode=False)\n",
       "  )\n",
       "  (contract3): ContractingBlock(\n",
       "    (conv1): Conv3d(64, 128, kernel_size=(3, 3, 3), stride=(1, 1, 1), padding=(1, 1, 1))\n",
       "    (conv2): Conv3d(128, 128, kernel_size=(3, 3, 3), stride=(1, 1, 1), padding=(1, 1, 1))\n",
       "    (pool): MaxPool3d(kernel_size=(1, 1, 1), stride=(1, 1, 1), padding=0, dilation=1, ceil_mode=False)\n",
       "  )\n",
       "  (fc1): Linear(in_features=207360, out_features=128, bias=True)\n",
       "  (fc2): Linear(in_features=128, out_features=64, bias=True)\n",
       "  (fc3): Linear(in_features=64, out_features=3, bias=True)\n",
       ")"
      ]
     },
     "execution_count": 10,
     "metadata": {},
     "output_type": "execute_result"
    }
   ],
   "source": [
    "model = manual_3d.Dual3DImageNet((10,80,80))\n",
    "model"
   ]
  },
  {
   "cell_type": "code",
   "execution_count": 13,
   "id": "aecbfbfc-4f62-4935-8fba-954c27437cfe",
   "metadata": {},
   "outputs": [
    {
     "name": "stdout",
     "output_type": "stream",
     "text": [
      "img1_features shape: torch.Size([128, 2, 12, 12])\n",
      "img2_features shape: torch.Size([128, 2, 12, 12])\n",
      "img1_flat shape: torch.Size([36864])\n",
      "img2_flat shape: torch.Size([36864])\n"
     ]
    },
    {
     "data": {
      "text/plain": [
       "tensor([-0.1409, -0.0058,  0.0199], grad_fn=<AddBackward0>)"
      ]
     },
     "execution_count": 13,
     "metadata": {},
     "output_type": "execute_result"
    }
   ],
   "source": [
    "model(image,image)"
   ]
  },
  {
   "cell_type": "code",
   "execution_count": 15,
   "id": "d7b74c29-c25d-468d-9f20-087f74bc3e00",
   "metadata": {},
   "outputs": [
    {
     "name": "stdout",
     "output_type": "stream",
     "text": [
      "Epoch [1/10], Loss: 109634.8589\n",
      "Epoch [2/10], Loss: 56598.5356\n",
      "Epoch [3/10], Loss: 133003.2989\n",
      "Epoch [4/10], Loss: 47433.4340\n",
      "Epoch [5/10], Loss: 29777.7841\n",
      "Epoch [6/10], Loss: 14987.3225\n",
      "Epoch [7/10], Loss: 16858.3835\n",
      "Epoch [8/10], Loss: 15864.6599\n",
      "Epoch [9/10], Loss: 13458.2109\n",
      "Epoch [10/10], Loss: 11342.7247\n"
     ]
    },
    {
     "data": {
      "text/plain": [
       "Dual3DImageNet(\n",
       "  (contract1): ContractingBlock(\n",
       "    (conv1): Conv3d(1, 32, kernel_size=(3, 3, 3), stride=(1, 1, 1), padding=(1, 1, 1))\n",
       "    (conv2): Conv3d(32, 32, kernel_size=(3, 3, 3), stride=(1, 1, 1), padding=(1, 1, 1))\n",
       "    (pool): MaxPool3d(kernel_size=(2, 2, 2), stride=(2, 2, 2), padding=0, dilation=1, ceil_mode=False)\n",
       "  )\n",
       "  (contract2): ContractingBlock(\n",
       "    (conv1): Conv3d(32, 64, kernel_size=(3, 3, 3), stride=(1, 1, 1), padding=(1, 1, 1))\n",
       "    (conv2): Conv3d(64, 64, kernel_size=(3, 3, 3), stride=(1, 1, 1), padding=(1, 1, 1))\n",
       "    (pool): MaxPool3d(kernel_size=(2, 2, 2), stride=(2, 2, 2), padding=0, dilation=1, ceil_mode=False)\n",
       "  )\n",
       "  (contract3): ContractingBlock(\n",
       "    (conv1): Conv3d(64, 128, kernel_size=(3, 3, 3), stride=(1, 1, 1), padding=(1, 1, 1))\n",
       "    (conv2): Conv3d(128, 128, kernel_size=(3, 3, 3), stride=(1, 1, 1), padding=(1, 1, 1))\n",
       "    (pool): MaxPool3d(kernel_size=(2, 2, 2), stride=(2, 2, 2), padding=0, dilation=1, ceil_mode=False)\n",
       "  )\n",
       "  (fc1): Linear(in_features=73728, out_features=128, bias=True)\n",
       "  (fc2): Linear(in_features=128, out_features=64, bias=True)\n",
       "  (fc3): Linear(in_features=64, out_features=3, bias=True)\n",
       ")"
      ]
     },
     "execution_count": 15,
     "metadata": {},
     "output_type": "execute_result"
    },
    {
     "name": "stderr",
     "output_type": "stream",
     "text": [
      "Traceback (most recent call last):\n",
      "  File \"/home/gabriel/Documents/napari_annotation_plugin/manual-3d/src/manual_3d/_widget.py\", line 1403, in hideEvent\n",
      "    self.viewer.layers.remove(self.prediction_layer)\n",
      "  File \"/home/gabriel/miniconda3/envs/napari-env/lib/python3.10/_collections_abc.py\", line 1163, in remove\n",
      "    del self[self.index(value)]\n",
      "  File \"/home/gabriel/miniconda3/envs/napari-env/lib/python3.10/site-packages/napari/utils/events/containers/_typed.py\", line 236, in index\n",
      "    raise ValueError(\n",
      "ValueError: <Points layer 'Prediction' at 0x7fdbdb6ce020> is not in list\n"
     ]
    }
   ],
   "source": [
    "manual_3d.train_model(model, loader)"
   ]
  },
  {
   "cell_type": "code",
   "execution_count": null,
   "id": "6e86b72a-5fce-40b5-a049-8d4efffcb2cd",
   "metadata": {},
   "outputs": [],
   "source": []
  }
 ],
 "metadata": {
  "kernelspec": {
   "display_name": "napari-env",
   "language": "python",
   "name": "napari-env"
  },
  "language_info": {
   "codemirror_mode": {
    "name": "ipython",
    "version": 3
   },
   "file_extension": ".py",
   "mimetype": "text/x-python",
   "name": "python",
   "nbconvert_exporter": "python",
   "pygments_lexer": "ipython3",
   "version": "3.10.15"
  }
 },
 "nbformat": 4,
 "nbformat_minor": 5
}
